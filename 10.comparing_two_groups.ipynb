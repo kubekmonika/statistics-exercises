{
 "cells": [
  {
   "cell_type": "markdown",
   "metadata": {},
   "source": [
    "# Comparing Two Groups"
   ]
  },
  {
   "cell_type": "code",
   "execution_count": 1,
   "metadata": {},
   "outputs": [],
   "source": [
    "import seaborn as sns\n",
    "import numpy as np\n",
    "import pandas as pd\n",
    "import scipy\n",
    "\n",
    "import statsmodels.stats as stats\n",
    "\n",
    "import matplotlib.pyplot as plt\n",
    "\n",
    "%matplotlib inline"
   ]
  },
  {
   "cell_type": "code",
   "execution_count": 32,
   "metadata": {},
   "outputs": [],
   "source": [
    "from statsmodels.stats.proportion import proportions_ztest\n",
    "from statsmodels.stats.weightstats import DescrStatsW\n",
    "from statsmodels.stats.weightstats import CompareMeans"
   ]
  },
  {
   "cell_type": "markdown",
   "metadata": {},
   "source": [
    "## Categorical Response: Comparing Two Proportions"
   ]
  },
  {
   "cell_type": "markdown",
   "metadata": {},
   "source": [
    "### 10.10 Comparing marketing commercials "
   ]
  },
  {
   "cell_type": "code",
   "execution_count": 5,
   "metadata": {},
   "outputs": [],
   "source": [
    "n = 100\n",
    "commercialA = 25\n",
    "commercialB = 20"
   ]
  },
  {
   "cell_type": "markdown",
   "metadata": {},
   "source": [
    "**Assumptions**\n",
    "* Independent random samples.\n",
    "* At least 5 successes and 5 failures in each group."
   ]
  },
  {
   "cell_type": "markdown",
   "metadata": {},
   "source": [
    "$H_0:$ $p_1 - p_2 = 0$; $\\quad H_a:$ $p_1 - p_2 \\ne 0$"
   ]
  },
  {
   "cell_type": "code",
   "execution_count": 10,
   "metadata": {},
   "outputs": [
    {
     "name": "stdout",
     "output_type": "stream",
     "text": [
      "z:\t 0.8466675133346031\n",
      "pval:\t 0.3971804712199202\n"
     ]
    }
   ],
   "source": [
    "ztest, pval = proportions_ztest([commercialA, commercialB], [n, n])\n",
    "print('z:\\t', ztest)\n",
    "print('pval:\\t', pval)"
   ]
  },
  {
   "cell_type": "markdown",
   "metadata": {},
   "source": [
    "Conclusion: there is no evidence to conclude that there is statistically significant difference between the groups."
   ]
  },
  {
   "cell_type": "markdown",
   "metadata": {},
   "source": [
    "### 10.11 Hormone therapy for menopause"
   ]
  },
  {
   "cell_type": "code",
   "execution_count": 11,
   "metadata": {},
   "outputs": [],
   "source": [
    "n_therapy = 8506\n",
    "p_therapy = 107\n",
    "n_placebo = 8102\n",
    "p_placebo = 88"
   ]
  },
  {
   "cell_type": "markdown",
   "metadata": {},
   "source": [
    "Is this a significant difference?"
   ]
  },
  {
   "cell_type": "markdown",
   "metadata": {},
   "source": [
    "**Assumptions**\n",
    "* Independent random samples.\n",
    "* At least 5 successes and 5 failures in each group."
   ]
  },
  {
   "cell_type": "markdown",
   "metadata": {},
   "source": [
    "$H_0:$ $p_1 - p_2 = 0$;$\\quad H_a:$ $p_1 - p_2 \\ne 0$"
   ]
  },
  {
   "cell_type": "code",
   "execution_count": 15,
   "metadata": {},
   "outputs": [
    {
     "name": "stdout",
     "output_type": "stream",
     "text": [
      "p1:\t 0.011\n",
      "p2:\t 0.013\n",
      "z:\t -1.027\n",
      "pval:\t 0.304\n"
     ]
    }
   ],
   "source": [
    "ztest, pval = proportions_ztest([p_placebo, p_therapy], [n_placebo, n_therapy])\n",
    "print('p1:\\t', round(p_placebo / n_placebo, 3)) \n",
    "print('p2:\\t', round(p_therapy / n_therapy, 3))\n",
    "print('z:\\t', round(ztest, 3))\n",
    "print('pval:\\t', round(pval, 3))"
   ]
  },
  {
   "cell_type": "markdown",
   "metadata": {},
   "source": [
    "## Comparing two means"
   ]
  },
  {
   "cell_type": "markdown",
   "metadata": {},
   "source": [
    "### 10.28 Student survey"
   ]
  },
  {
   "cell_type": "markdown",
   "metadata": {},
   "source": [
    "Number of times reading the newspapper"
   ]
  },
  {
   "cell_type": "code",
   "execution_count": 16,
   "metadata": {},
   "outputs": [],
   "source": [
    "females = [5, 3, 6, 3, 7, 1, 1, 3, 0, 4, 7, 2, 2, 7, 3, 0, 5, 0, 4, 4, 5, 14, 3, 1, 2, 1, 7, 2, 5, 3, 7]\n",
    "males = [0, 3, 7, 4, 3, 2, 1, 12, 1, 6, 2, 2, 7, 7, 5, 3, 14, 3, 7, 6, 5, 5, 2, 3, 5, 5, 2, 3, 3]"
   ]
  },
  {
   "cell_type": "code",
   "execution_count": 33,
   "metadata": {},
   "outputs": [],
   "source": [
    "d_females = DescrStatsW(females, ddof=1)\n",
    "d_males = DescrStatsW(males, ddof=1)"
   ]
  },
  {
   "cell_type": "code",
   "execution_count": 21,
   "metadata": {},
   "outputs": [
    {
     "data": {
      "text/plain": [
       "[Text(0, 0, 'females'), Text(0, 0, 'males')]"
      ]
     },
     "execution_count": 21,
     "metadata": {},
     "output_type": "execute_result"
    },
    {
     "data": {
      "image/png": "[encoded data removed]",
      "text/plain": [
       "<Figure size 432x288 with 1 Axes>"
      ]
     },
     "metadata": {
      "needs_background": "light"
     },
     "output_type": "display_data"
    }
   ],
   "source": [
    "ax = sns.boxplot(data=[females, males])\n",
    "ax.set_xticklabels(['females', 'males'])"
   ]
  },
  {
   "cell_type": "code",
   "execution_count": 24,
   "metadata": {},
   "outputs": [
    {
     "data": {
      "text/plain": [
       "<matplotlib.axes._subplots.AxesSubplot at 0x7f41194f6668>"
      ]
     },
     "execution_count": 24,
     "metadata": {},
     "output_type": "execute_result"
    },
    {
     "data": {
      "image/png": "[encoded data removed]",
      "text/plain": [
       "<Figure size 432x288 with 1 Axes>"
      ]
     },
     "metadata": {
      "needs_background": "light"
     },
     "output_type": "display_data"
    }
   ],
   "source": [
    "sns.distplot(females, kde=False, bins=10)\n",
    "sns.distplot(males, kde=False, bins=10)"
   ]
  },
  {
   "cell_type": "markdown",
   "metadata": {},
   "source": [
    "Both groups distributions are skewed to the right."
   ]
  },
  {
   "cell_type": "code",
   "execution_count": 34,
   "metadata": {},
   "outputs": [],
   "source": [
    "cm = CompareMeans(d_females, d_males)"
   ]
  },
  {
   "cell_type": "markdown",
   "metadata": {},
   "source": [
    "**Confidence Interval for the difference between two population means**\n",
    "\n",
    "Assumptions:\n",
    "* If $n_1 < 30$ or $n_2 < 30$ then we cannot rely on the central limit theorem. We make the assumption that the population distributions are normal. \n",
    "* Independent random samples from the two groups.\n",
    "* The method is robust to violations of the normality assumption."
   ]
  },
  {
   "cell_type": "markdown",
   "metadata": {},
   "source": [
    "Degrees of freedom $df$\n",
    "* If $s_1 = s_2$ and $n_1 = n_2$ then $df = n_1 + n_2 - 2$.\n",
    "* Else *Welch-Satterthwaite formula*."
   ]
  },
  {
   "cell_type": "code",
   "execution_count": 39,
   "metadata": {},
   "outputs": [
    {
     "name": "stdout",
     "output_type": "stream",
     "text": [
      "n1, n2:\t 31.0 29.0\n",
      "s1, s2:\t 2.9292738283216755 3.099737792819975\n"
     ]
    }
   ],
   "source": [
    "print('n1, n2:\\t', d_females.nobs, d_males.nobs)\n",
    "print('s1, s2:\\t', d_females.std, d_males.std)"
   ]
  },
  {
   "cell_type": "code",
   "execution_count": 44,
   "metadata": {},
   "outputs": [
    {
     "name": "stdout",
     "output_type": "stream",
     "text": [
      "CI: (-2.20109066917513, 0.9218915590527725)\n"
     ]
    }
   ],
   "source": [
    "print('CI:', cm.tconfint_diff(alpha=0.05, alternative='two-sided', usevar='unequal'))"
   ]
  },
  {
   "cell_type": "markdown",
   "metadata": {},
   "source": [
    "The 95% CI contains 0 - we can not conclude that there is a difference between groups."
   ]
  },
  {
   "cell_type": "markdown",
   "metadata": {},
   "source": [
    "**Two-sided significance test for comparing two population means**\n",
    "\n",
    "Assumptions:\n",
    "* Independent random samples.\n",
    "* Approximately normal population distribution for each group.\n",
    "    * Mainly important for small sample sizes.\n",
    "    * Two-sided test is robust to violations of this assumption."
   ]
  },
  {
   "cell_type": "markdown",
   "metadata": {},
   "source": [
    "Hypothesis:\n",
    "\n",
    "$H_0:$ $\\mu_1 = \\mu_2$; $\\quad H_a:$ $\\mu_1 \\ne \\mu_2$"
   ]
  },
  {
   "cell_type": "markdown",
   "metadata": {},
   "source": [
    "**Test statistic**"
   ]
  },
  {
   "cell_type": "code",
   "execution_count": 48,
   "metadata": {},
   "outputs": [],
   "source": [
    "from scipy.stats import ttest_ind"
   ]
  },
  {
   "cell_type": "code",
   "execution_count": 46,
   "metadata": {},
   "outputs": [
    {
     "name": "stdout",
     "output_type": "stream",
     "text": [
      "t:\t -0.82\n",
      "pval:\t 0.304\n"
     ]
    }
   ],
   "source": [
    "tstat, pvalue, df = cm.ttest_ind(usevar='unequal')\n",
    "print('t:\\t', round(tstat, 3))\n",
    "print('pval:\\t', round(pval, 3))"
   ]
  },
  {
   "cell_type": "code",
   "execution_count": 49,
   "metadata": {},
   "outputs": [
    {
     "name": "stdout",
     "output_type": "stream",
     "text": [
      "t:\t -0.82\n",
      "pval:\t 0.304\n"
     ]
    }
   ],
   "source": [
    "tstat, pvalue = ttest_ind(females, males, equal_var=False)\n",
    "print('t:\\t', round(tstat, 3))\n",
    "print('pval:\\t', round(pval, 3))"
   ]
  },
  {
   "cell_type": "code",
   "execution_count": 47,
   "metadata": {},
   "outputs": [
    {
     "data": {
      "text/html": [
       "<table class=\"simpletable\">\n",
       "<caption>Test for equality of means</caption>\n",
       "<tr>\n",
       "      <td></td>         <th>coef</th>     <th>std err</th>      <th>t</th>      <th>P>|t|</th>  <th>[0.025</th>    <th>0.975]</th>  \n",
       "</tr>\n",
       "<tr>\n",
       "  <th>subset #1</th> <td>   -0.6396</td> <td>    0.780</td> <td>   -0.820</td> <td> 0.416</td> <td>   -2.201</td> <td>    0.922</td>\n",
       "</tr>\n",
       "</table>"
      ],
      "text/plain": [
       "<class 'statsmodels.iolib.table.SimpleTable'>"
      ]
     },
     "execution_count": 47,
     "metadata": {},
     "output_type": "execute_result"
    }
   ],
   "source": [
    "cm.summary(usevar='unequal')"
   ]
  },
  {
   "cell_type": "code",
   "execution_count": null,
   "metadata": {},
   "outputs": [],
   "source": []
  }
 ],
 "metadata": {
  "kernelspec": {
   "display_name": "Python 3",
   "language": "python",
   "name": "python3"
  },
  "language_info": {
   "codemirror_mode": {
    "name": "ipython",
    "version": 3
   },
   "file_extension": ".py",
   "mimetype": "text/x-python",
   "name": "python",
   "nbconvert_exporter": "python",
   "pygments_lexer": "ipython3",
   "version": "3.6.8"
  }
 },
 "nbformat": 4,
 "nbformat_minor": 2
}
